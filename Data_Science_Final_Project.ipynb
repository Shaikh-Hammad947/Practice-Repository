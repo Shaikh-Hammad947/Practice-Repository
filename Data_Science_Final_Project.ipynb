{
 "cells": [
  {
   "cell_type": "markdown",
   "id": "5d92f605",
   "metadata": {},
   "source": [
    "# Data Science Final Project"
   ]
  },
  {
   "cell_type": "markdown",
   "id": "f02f1179",
   "metadata": {},
   "source": [
    "## Introduction\n",
    "This notebook demonstrates basic concepts in data science, including languages, libraries, tools, and arithmetic operations."
   ]
  },
  {
   "cell_type": "markdown",
   "id": "0f5640fa",
   "metadata": {},
   "source": [
    "## Data Science Languages\n",
    "- Python\n",
    "- R\n",
    "- SQL\n",
    "- Julia\n",
    "- Scala"
   ]
  },
  {
   "cell_type": "markdown",
   "id": "255fe707",
   "metadata": {},
   "source": [
    "## Data Science Libraries\n",
    "- NumPy\n",
    "- Pandas\n",
    "- Matplotlib\n",
    "- Scikit-learn\n",
    "- TensorFlow"
   ]
  },
  {
   "cell_type": "markdown",
   "id": "05c2262e",
   "metadata": {},
   "source": [
    "## Data Science Tools\n",
    "| Tool           | Purpose                      |\n",
    "|----------------|------------------------------|\n",
    "| Jupyter Notebook | Interactive Computing      |\n",
    "| RStudio         | Statistical Analysis        |\n",
    "| Apache Spark    | Big Data Processing         |\n",
    "| Tableau         | Data Visualization          |\n",
    "| Power BI        | Business Intelligence       |"
   ]
  },
  {
   "cell_type": "markdown",
   "id": "21da9275",
   "metadata": {},
   "source": [
    "## Arithmetic Expressions\n",
    "Below are examples of arithmetic operations such as addition, multiplication, and division."
   ]
  },
  {
   "cell_type": "code",
   "execution_count": null,
   "id": "22cae199",
   "metadata": {},
   "outputs": [],
   "source": [
    "# Multiply and Add Numbers\n",
    "# Calculation: (5 * 4) + 2\n",
    "result = (5 * 4) + 2\n",
    "result"
   ]
  },
  {
   "cell_type": "code",
   "execution_count": null,
   "id": "97818443",
   "metadata": {},
   "outputs": [],
   "source": [
    "# Convert Minutes to Hours\n",
    "# Calculation: minutes divided by 60\n",
    "minutes = 200\n",
    "hours = minutes / 60\n",
    "hours"
   ]
  },
  {
   "cell_type": "markdown",
   "id": "6bcabcb9",
   "metadata": {},
   "source": [
    "## Objectives\n",
    "- List popular data science languages.\n",
    "- Identify commonly used data science libraries.\n",
    "- Present data science tools in a table format.\n",
    "- Perform basic arithmetic operations in Python.\n",
    "- Share the notebook publicly using GitHub."
   ]
  },
  {
   "cell_type": "markdown",
   "id": "edf03716",
   "metadata": {},
   "source": [
    "## Author\n",
    "Shaikh Hammad Kaleem"
   ]
  }
 ],
 "metadata": {
  "kernelspec": {
   "display_name": "Python 3 (ipykernel)",
   "language": "python",
   "name": "python3"
  },
  "language_info": {
   "codemirror_mode": {
    "name": "ipython",
    "version": 3
   },
   "file_extension": ".py",
   "mimetype": "text/x-python",
   "name": "python",
   "nbconvert_exporter": "python",
   "pygments_lexer": "ipython3",
   "version": "3.12.7"
  }
 },
 "nbformat": 4,
 "nbformat_minor": 5
}
